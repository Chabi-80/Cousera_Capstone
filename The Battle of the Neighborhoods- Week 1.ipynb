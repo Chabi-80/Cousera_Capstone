{
    "cells": [
        {
            "cell_type": "markdown",
            "metadata": {
                "collapsed": true
            },
            "source": "## Problem Statement"
        },
        {
            "cell_type": "markdown",
            "metadata": {},
            "source": "The City of Johannesburg  is perceived as  a crime ridden city in South Africa that most student outside of the city are reluctant  to come and study in Johannesburg.The aim of this project is explore neighborhoods  in the city of Johannesburg where student can stay safely and enjoy the rest of their  student life in the city.\n\nThis analysis  will assist any student who has never been to Johannesburg South Africa to apply to local universities with ease ,knowing that there are safe neighborhoods to stay in and venues  for student entertainment in the city.\n\n\n"
        },
        {
            "cell_type": "markdown",
            "metadata": {},
            "source": "## Data Description"
        },
        {
            "cell_type": "markdown",
            "metadata": {},
            "source": "To support my analysis i will use Foursquare API and machine learning algorithm to explore venues and  neighborhoods in Johannesburg by:\n    \n- Finding the safest neighborhood  based on crime statistics \n- Geographic locations showing Johannesburg city  coordinates \n- Choosing popular stundent accomodation in the neigborhood"
        },
        {
            "cell_type": "code",
            "execution_count": null,
            "metadata": {},
            "outputs": [],
            "source": ""
        }
    ],
    "metadata": {
        "kernelspec": {
            "display_name": "Python 3.6",
            "language": "python",
            "name": "python3"
        },
        "language_info": {
            "codemirror_mode": {
                "name": "ipython",
                "version": 3
            },
            "file_extension": ".py",
            "mimetype": "text/x-python",
            "name": "python",
            "nbconvert_exporter": "python",
            "pygments_lexer": "ipython3",
            "version": "3.6.9"
        }
    },
    "nbformat": 4,
    "nbformat_minor": 1
}