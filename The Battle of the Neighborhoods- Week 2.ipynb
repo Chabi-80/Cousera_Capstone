{
    "cells": [
        {
            "cell_type": "markdown",
            "metadata": {
                "collapsed": true
            },
            "source": "## Problem Statement"
        },
        {
            "cell_type": "markdown",
            "metadata": {},
            "source": "The City of Johannesburg  is perceived as  a crime ridden city in South Africa that most student outside of the city are reluctant  to come and study in Johannesburg.The aim of this project is explore neighborhoods  in the city of Johannesburg where student can stay safely and enjoy the rest of their  student life in the city.\n\nThis analysis  will assist any student who has never been to Johannesburg South Africa to apply to local universities with ease ,knowing that there are safe neighborhoods to stay in and venues  for student entertainment in the city.\n\n\n"
        },
        {
            "cell_type": "markdown",
            "metadata": {},
            "source": "## Data Description"
        },
        {
            "cell_type": "markdown",
            "metadata": {},
            "source": "To support my analysis i will use Foursquare API and machine learning algorithm to explore venues and  neighborhoods in Johannesburg by:\n    \n- Finding the safest neighborhood  based on crime statistics \n- Geographic locations showing Johannesburg city  coordinates \n- Choosing popular stundent accomodation in the neigborhood"
        },
        {
            "cell_type": "code",
            "execution_count": 3,
            "metadata": {},
            "outputs": [
                {
                    "name": "stdout",
                    "output_type": "stream",
                    "text": "Libraries imported.\n"
                }
            ],
            "source": "import numpy as np # library to handle data in a vectorized manner\n\nimport pandas as pd # library for data analsysis\npd.set_option('display.max_columns', None)\npd.set_option('display.max_rows', None)\n\nimport json # library to handle JSON files\n\nimport requests # librabry to handle requests\nfrom geopy.geocoders import Nominatim \n\n\nimport requests # library to handle requests\nfrom pandas.io.json import json_normalize # tranform JSON file into a pandas dataframe\n\n# Matplotlib and associated plotting modules\nimport matplotlib.cm as cm\nimport matplotlib.colors as colors\n\n# import k-means from clustering stage\nfrom sklearn.cluster import KMeans\n \nfrom bs4 import BeautifulSoup\n\nimport folium\n\n\nprint('Libraries imported.')"
        },
        {
            "cell_type": "markdown",
            "metadata": {},
            "source": "# Lets get data for South African Provinces and Capital cities"
        },
        {
            "cell_type": "code",
            "execution_count": 3,
            "metadata": {},
            "outputs": [
                {
                    "data": {
                        "text/html": "<div>\n<style scoped>\n    .dataframe tbody tr th:only-of-type {\n        vertical-align: middle;\n    }\n\n    .dataframe tbody tr th {\n        vertical-align: top;\n    }\n\n    .dataframe thead th {\n        text-align: right;\n    }\n</style>\n<table border=\"1\" class=\"dataframe\">\n  <thead>\n    <tr style=\"text-align: right;\">\n      <th></th>\n      <th>Province</th>\n      <th>Capital</th>\n      <th>Coordinates</th>\n    </tr>\n  </thead>\n  <tbody>\n    <tr>\n      <th>0</th>\n      <td>Eastern Cape</td>\n      <td>Bhisho</td>\n      <td>32\u00b051\u203212\u2033S 27\u00b026\u203210\u2033E\ufeff / \ufeff32.85333\u00b0S 27.43611\u00b0E</td>\n    </tr>\n    <tr>\n      <th>1</th>\n      <td>Free State</td>\n      <td>Bloemfontein</td>\n      <td>29\u00b006\u203258\u2033S 26\u00b012\u203251\u2033E\ufeff / \ufeff29.11611\u00b0S 26.21417\u00b0E</td>\n    </tr>\n    <tr>\n      <th>2</th>\n      <td>Gauteng</td>\n      <td>Johannesburg</td>\n      <td>26\u00b012\u203222\u2033S 28\u00b002\u203224\u2033E\ufeff / \ufeff26.20611\u00b0S 28.04000\u00b0E</td>\n    </tr>\n    <tr>\n      <th>3</th>\n      <td>KwaZulu-Natal</td>\n      <td>Pietermaritzburg</td>\n      <td>29\u00b036\u203205\u2033S 30\u00b022\u203256\u2033E\ufeff / \ufeff29.60139\u00b0S 30.38222\u00b0E</td>\n    </tr>\n    <tr>\n      <th>4</th>\n      <td>Limpopo</td>\n      <td>Polokwane</td>\n      <td>23\u00b054\u203245\u2033S 29\u00b027\u203221\u2033E\ufeff / \ufeff23.91250\u00b0S 29.45583\u00b0E</td>\n    </tr>\n    <tr>\n      <th>5</th>\n      <td>Mpumalanga</td>\n      <td>Nelspruit</td>\n      <td>25\u00b026\u203215\u2033S 30\u00b058\u203219\u2033E\ufeff / \ufeff25.43750\u00b0S 30.97194\u00b0E</td>\n    </tr>\n    <tr>\n      <th>6</th>\n      <td>North West</td>\n      <td>Mahikeng</td>\n      <td>25\u00b050\u203203\u2033S 25\u00b036\u203242\u2033E\ufeff / \ufeff25.83417\u00b0S 25.61167\u00b0E</td>\n    </tr>\n    <tr>\n      <th>7</th>\n      <td>Northern Cape</td>\n      <td>Kimberley</td>\n      <td>28\u00b044\u203210\u2033S 24\u00b046\u203208\u2033E\ufeff / \ufeff28.73611\u00b0S 24.76889\u00b0E</td>\n    </tr>\n    <tr>\n      <th>8</th>\n      <td>Western Cape</td>\n      <td>Cape Town</td>\n      <td>33\u00b055\u203227\u2033S 18\u00b025\u203207\u2033E\ufeff / \ufeff33.92417\u00b0S 18.41861\u00b0E</td>\n    </tr>\n  </tbody>\n</table>\n</div>",
                        "text/plain": "        Province           Capital  \\\n0   Eastern Cape            Bhisho   \n1     Free State      Bloemfontein   \n2        Gauteng      Johannesburg   \n3  KwaZulu-Natal  Pietermaritzburg   \n4        Limpopo         Polokwane   \n5     Mpumalanga         Nelspruit   \n6     North West          Mahikeng   \n7  Northern Cape         Kimberley   \n8   Western Cape         Cape Town   \n\n                                       Coordinates  \n0  32\u00b051\u203212\u2033S 27\u00b026\u203210\u2033E\ufeff / \ufeff32.85333\u00b0S 27.43611\u00b0E  \n1  29\u00b006\u203258\u2033S 26\u00b012\u203251\u2033E\ufeff / \ufeff29.11611\u00b0S 26.21417\u00b0E  \n2  26\u00b012\u203222\u2033S 28\u00b002\u203224\u2033E\ufeff / \ufeff26.20611\u00b0S 28.04000\u00b0E  \n3  29\u00b036\u203205\u2033S 30\u00b022\u203256\u2033E\ufeff / \ufeff29.60139\u00b0S 30.38222\u00b0E  \n4  23\u00b054\u203245\u2033S 29\u00b027\u203221\u2033E\ufeff / \ufeff23.91250\u00b0S 29.45583\u00b0E  \n5  25\u00b026\u203215\u2033S 30\u00b058\u203219\u2033E\ufeff / \ufeff25.43750\u00b0S 30.97194\u00b0E  \n6  25\u00b050\u203203\u2033S 25\u00b036\u203242\u2033E\ufeff / \ufeff25.83417\u00b0S 25.61167\u00b0E  \n7  28\u00b044\u203210\u2033S 24\u00b046\u203208\u2033E\ufeff / \ufeff28.73611\u00b0S 24.76889\u00b0E  \n8  33\u00b055\u203227\u2033S 18\u00b025\u203207\u2033E\ufeff / \ufeff33.92417\u00b0S 18.41861\u00b0E  "
                    },
                    "execution_count": 3,
                    "metadata": {},
                    "output_type": "execute_result"
                }
            ],
            "source": "# The code was removed by Watson Studio for sharing."
        },
        {
            "cell_type": "markdown",
            "metadata": {},
            "source": "# Exploring Provinces by crime "
        },
        {
            "cell_type": "code",
            "execution_count": 4,
            "metadata": {},
            "outputs": [],
            "source": "List_url = 'https://businesstech.co.za/news/lifestyle/340529/the-30-worst-areas-for-crime-in-south-africa'\nsource = requests.get(List_url).text\n\nsoup = BeautifulSoup(source, 'xml')\ntable=soup.find('table')\ncolumn_names=['Station','Province','Reported crimes 2019','Change from 2018',]\ndf = pd.DataFrame(columns=column_names)\n"
        },
        {
            "cell_type": "code",
            "execution_count": 5,
            "metadata": {},
            "outputs": [
                {
                    "data": {
                        "text/html": "<div>\n<style scoped>\n    .dataframe tbody tr th:only-of-type {\n        vertical-align: middle;\n    }\n\n    .dataframe tbody tr th {\n        vertical-align: top;\n    }\n\n    .dataframe thead th {\n        text-align: right;\n    }\n</style>\n<table border=\"1\" class=\"dataframe\">\n  <thead>\n    <tr style=\"text-align: right;\">\n      <th></th>\n      <th>Station</th>\n      <th>Province</th>\n      <th>Reported crimes 2019</th>\n      <th>Change from 2018</th>\n    </tr>\n  </thead>\n  <tbody>\n  </tbody>\n</table>\n</div>",
                        "text/plain": "Empty DataFrame\nColumns: [Station, Province, Reported crimes 2019, Change from 2018]\nIndex: []"
                    },
                    "execution_count": 5,
                    "metadata": {},
                    "output_type": "execute_result"
                }
            ],
            "source": "df.head()"
        },
        {
            "cell_type": "code",
            "execution_count": 6,
            "metadata": {},
            "outputs": [
                {
                    "data": {
                        "text/html": "<div>\n<style scoped>\n    .dataframe tbody tr th:only-of-type {\n        vertical-align: middle;\n    }\n\n    .dataframe tbody tr th {\n        vertical-align: top;\n    }\n\n    .dataframe thead th {\n        text-align: right;\n    }\n</style>\n<table border=\"1\" class=\"dataframe\">\n  <thead>\n    <tr style=\"text-align: right;\">\n      <th></th>\n      <th>Station</th>\n      <th>Province</th>\n      <th>Reported crimes 2019</th>\n      <th>Change from 2018</th>\n    </tr>\n  </thead>\n  <tbody>\n    <tr>\n      <th>0</th>\n      <td>Cape Town Central</td>\n      <td>Western Cape</td>\n      <td>13 747</td>\n      <td>-10.9%</td>\n    </tr>\n    <tr>\n      <th>1</th>\n      <td>JHB Central</td>\n      <td>Gauteng</td>\n      <td>12 199</td>\n      <td>-0.2%</td>\n    </tr>\n    <tr>\n      <th>2</th>\n      <td>Mitchells Plain</td>\n      <td>Western Cape</td>\n      <td>11 374</td>\n      <td>-0.1%</td>\n    </tr>\n    <tr>\n      <th>3</th>\n      <td>Park Road</td>\n      <td>Free State</td>\n      <td>10 664</td>\n      <td>+11.0%</td>\n    </tr>\n    <tr>\n      <th>4</th>\n      <td>Honeydew</td>\n      <td>Gauteng</td>\n      <td>9 981</td>\n      <td>-5.0%</td>\n    </tr>\n    <tr>\n      <th>5</th>\n      <td>Durban Central</td>\n      <td>KZN</td>\n      <td>9 798</td>\n      <td>-3.4%</td>\n    </tr>\n    <tr>\n      <th>6</th>\n      <td>Pretoria Central</td>\n      <td>Gauteng</td>\n      <td>8 941</td>\n      <td>+1.6%</td>\n    </tr>\n    <tr>\n      <th>7</th>\n      <td>Witbank</td>\n      <td>Mpumalanga</td>\n      <td>8 916</td>\n      <td>-1.3%</td>\n    </tr>\n    <tr>\n      <th>8</th>\n      <td>Hillbrow</td>\n      <td>Gauteng</td>\n      <td>8 252</td>\n      <td>-4.7%</td>\n    </tr>\n    <tr>\n      <th>9</th>\n      <td>Sunnyside</td>\n      <td>Gauteng</td>\n      <td>7 833</td>\n      <td>+4.8%</td>\n    </tr>\n    <tr>\n      <th>10</th>\n      <td>Kraaifontein</td>\n      <td>Western Cape</td>\n      <td>7 603</td>\n      <td>-1.8%</td>\n    </tr>\n    <tr>\n      <th>11</th>\n      <td>Pinetown</td>\n      <td>KZN</td>\n      <td>7 208</td>\n      <td>-3.5%</td>\n    </tr>\n    <tr>\n      <th>12</th>\n      <td>Sandton</td>\n      <td>Gauteng</td>\n      <td>7 181</td>\n      <td>-5.7%</td>\n    </tr>\n    <tr>\n      <th>13</th>\n      <td>Rustenburg</td>\n      <td>North West</td>\n      <td>7 124</td>\n      <td>-14.5%</td>\n    </tr>\n    <tr>\n      <th>14</th>\n      <td>Nyanga</td>\n      <td>Western Cape</td>\n      <td>7 059</td>\n      <td>-11.1%</td>\n    </tr>\n    <tr>\n      <th>15</th>\n      <td>Dobsonville</td>\n      <td>Gauteng</td>\n      <td>7 009</td>\n      <td>+4.5%</td>\n    </tr>\n    <tr>\n      <th>16</th>\n      <td>Kimberley</td>\n      <td>Northern Cape</td>\n      <td>6 977</td>\n      <td>+9.4%</td>\n    </tr>\n    <tr>\n      <th>17</th>\n      <td>Stellenbosch</td>\n      <td>Western Cape</td>\n      <td>6 959</td>\n      <td>-14.3%</td>\n    </tr>\n    <tr>\n      <th>18</th>\n      <td>Delft</td>\n      <td>Western Cape</td>\n      <td>6 920</td>\n      <td>+8.5%</td>\n    </tr>\n    <tr>\n      <th>19</th>\n      <td>Midrand</td>\n      <td>Gauteng</td>\n      <td>6 905</td>\n      <td>-6.9%</td>\n    </tr>\n    <tr>\n      <th>20</th>\n      <td>Kempton Park</td>\n      <td>Gauteng</td>\n      <td>6 900</td>\n      <td>+1.2%</td>\n    </tr>\n    <tr>\n      <th>21</th>\n      <td>Belville</td>\n      <td>Western Cape</td>\n      <td>6 630</td>\n      <td>-2.0%</td>\n    </tr>\n    <tr>\n      <th>22</th>\n      <td>Brooklyn</td>\n      <td>Gauteng</td>\n      <td>6 608</td>\n      <td>-3.3%</td>\n    </tr>\n    <tr>\n      <th>23</th>\n      <td>Randfontein</td>\n      <td>Gauteng</td>\n      <td>6 555</td>\n      <td>-2.8%</td>\n    </tr>\n    <tr>\n      <th>24</th>\n      <td>Akasia</td>\n      <td>Gauteng</td>\n      <td>6 497</td>\n      <td>+10.7%</td>\n    </tr>\n    <tr>\n      <th>25</th>\n      <td>Plessislaer</td>\n      <td>KZN</td>\n      <td>6 436</td>\n      <td>-1.0%</td>\n    </tr>\n    <tr>\n      <th>26</th>\n      <td>East London</td>\n      <td>Eastern Cape</td>\n      <td>6 435</td>\n      <td>+3.1%</td>\n    </tr>\n    <tr>\n      <th>27</th>\n      <td>Mfuleni</td>\n      <td>Western Cape</td>\n      <td>6 412</td>\n      <td>+6.8%</td>\n    </tr>\n    <tr>\n      <th>28</th>\n      <td>Worcester</td>\n      <td>Western Cape</td>\n      <td>6 379</td>\n      <td>-10.7%</td>\n    </tr>\n    <tr>\n      <th>29</th>\n      <td>Phoenix</td>\n      <td>KZN</td>\n      <td>6 285</td>\n      <td>-5.1%</td>\n    </tr>\n  </tbody>\n</table>\n</div>",
                        "text/plain": "              Station       Province Reported crimes 2019 Change from 2018\n0   Cape Town Central   Western Cape               13 747           -10.9%\n1         JHB Central        Gauteng               12 199            -0.2%\n2     Mitchells Plain   Western Cape               11 374            -0.1%\n3           Park Road     Free State               10 664           +11.0%\n4            Honeydew        Gauteng                9 981            -5.0%\n5      Durban Central            KZN                9 798            -3.4%\n6    Pretoria Central        Gauteng                8 941            +1.6%\n7             Witbank     Mpumalanga                8 916            -1.3%\n8            Hillbrow        Gauteng                8 252            -4.7%\n9           Sunnyside        Gauteng                7 833            +4.8%\n10       Kraaifontein   Western Cape                7 603            -1.8%\n11           Pinetown            KZN                7 208            -3.5%\n12            Sandton        Gauteng                7 181            -5.7%\n13         Rustenburg     North West                7 124           -14.5%\n14             Nyanga   Western Cape                7 059           -11.1%\n15        Dobsonville        Gauteng                7 009            +4.5%\n16          Kimberley  Northern Cape                6 977            +9.4%\n17       Stellenbosch   Western Cape                6 959           -14.3%\n18              Delft   Western Cape                6 920            +8.5%\n19            Midrand        Gauteng                6 905            -6.9%\n20       Kempton Park        Gauteng                6 900            +1.2%\n21           Belville   Western Cape                6 630            -2.0%\n22           Brooklyn        Gauteng                6 608            -3.3%\n23        Randfontein        Gauteng                6 555            -2.8%\n24             Akasia        Gauteng                6 497           +10.7%\n25        Plessislaer            KZN                6 436            -1.0%\n26        East London   Eastern Cape                6 435            +3.1%\n27            Mfuleni   Western Cape                6 412            +6.8%\n28          Worcester   Western Cape                6 379           -10.7%\n29            Phoenix            KZN                6 285            -5.1%"
                    },
                    "execution_count": 6,
                    "metadata": {},
                    "output_type": "execute_result"
                }
            ],
            "source": "for tr_cell in table.find_all('tr'):\n    row_data=[]\n    for td_cell in tr_cell.find_all('td'):\n        row_data.append(td_cell.text.strip())\n    if len(row_data)==4:\n        df.loc[len(df)] = row_data\ndf.head(100)\n"
        },
        {
            "cell_type": "markdown",
            "metadata": {},
            "source": "# Selecting Gauteng Data only"
        },
        {
            "cell_type": "code",
            "execution_count": 7,
            "metadata": {},
            "outputs": [
                {
                    "data": {
                        "text/html": "<div>\n<style scoped>\n    .dataframe tbody tr th:only-of-type {\n        vertical-align: middle;\n    }\n\n    .dataframe tbody tr th {\n        vertical-align: top;\n    }\n\n    .dataframe thead th {\n        text-align: right;\n    }\n</style>\n<table border=\"1\" class=\"dataframe\">\n  <thead>\n    <tr style=\"text-align: right;\">\n      <th></th>\n      <th>Station</th>\n      <th>Province</th>\n      <th>Reported crimes 2019</th>\n      <th>Change from 2018</th>\n    </tr>\n  </thead>\n  <tbody>\n    <tr>\n      <th>1</th>\n      <td>JHB Central</td>\n      <td>Gauteng</td>\n      <td>12 199</td>\n      <td>-0.2%</td>\n    </tr>\n    <tr>\n      <th>4</th>\n      <td>Honeydew</td>\n      <td>Gauteng</td>\n      <td>9 981</td>\n      <td>-5.0%</td>\n    </tr>\n    <tr>\n      <th>6</th>\n      <td>Pretoria Central</td>\n      <td>Gauteng</td>\n      <td>8 941</td>\n      <td>+1.6%</td>\n    </tr>\n    <tr>\n      <th>8</th>\n      <td>Hillbrow</td>\n      <td>Gauteng</td>\n      <td>8 252</td>\n      <td>-4.7%</td>\n    </tr>\n    <tr>\n      <th>9</th>\n      <td>Sunnyside</td>\n      <td>Gauteng</td>\n      <td>7 833</td>\n      <td>+4.8%</td>\n    </tr>\n    <tr>\n      <th>12</th>\n      <td>Sandton</td>\n      <td>Gauteng</td>\n      <td>7 181</td>\n      <td>-5.7%</td>\n    </tr>\n    <tr>\n      <th>15</th>\n      <td>Dobsonville</td>\n      <td>Gauteng</td>\n      <td>7 009</td>\n      <td>+4.5%</td>\n    </tr>\n    <tr>\n      <th>19</th>\n      <td>Midrand</td>\n      <td>Gauteng</td>\n      <td>6 905</td>\n      <td>-6.9%</td>\n    </tr>\n    <tr>\n      <th>20</th>\n      <td>Kempton Park</td>\n      <td>Gauteng</td>\n      <td>6 900</td>\n      <td>+1.2%</td>\n    </tr>\n    <tr>\n      <th>22</th>\n      <td>Brooklyn</td>\n      <td>Gauteng</td>\n      <td>6 608</td>\n      <td>-3.3%</td>\n    </tr>\n  </tbody>\n</table>\n</div>",
                        "text/plain": "             Station Province Reported crimes 2019 Change from 2018\n1        JHB Central  Gauteng               12 199            -0.2%\n4           Honeydew  Gauteng                9 981            -5.0%\n6   Pretoria Central  Gauteng                8 941            +1.6%\n8           Hillbrow  Gauteng                8 252            -4.7%\n9          Sunnyside  Gauteng                7 833            +4.8%\n12           Sandton  Gauteng                7 181            -5.7%\n15       Dobsonville  Gauteng                7 009            +4.5%\n19           Midrand  Gauteng                6 905            -6.9%\n20      Kempton Park  Gauteng                6 900            +1.2%\n22          Brooklyn  Gauteng                6 608            -3.3%"
                    },
                    "execution_count": 7,
                    "metadata": {},
                    "output_type": "execute_result"
                }
            ],
            "source": "Gauteng_data = df[df['Province'] =='Gauteng']\nGauteng_data.head(10)"
        },
        {
            "cell_type": "markdown",
            "metadata": {},
            "source": "### **Exploring Neighborhoods using Foursquare data**"
        },
        {
            "cell_type": "code",
            "execution_count": null,
            "metadata": {},
            "outputs": [],
            "source": "CLIENT_ID = '' # your Foursquare ID\nCLIENT_SECRET = '' # your Foursquare Secret\nVERSION = '' # Foursquare API version\n\nprint('Your credentails:')\nprint('CLIENT_ID: ' + CLIENT_ID)\nprint('CLIENT_SECRET:' + CLIENT_SECRET)"
        },
        {
            "cell_type": "markdown",
            "metadata": {},
            "source": "# Selecting Midrand as a student location"
        },
        {
            "cell_type": "code",
            "execution_count": 5,
            "metadata": {},
            "outputs": [
                {
                    "name": "stdout",
                    "output_type": "stream",
                    "text": "-25.999262 28.125912\n"
                }
            ],
            "source": "address = 'Midrand, South Africa'\n\ngeolocator = Nominatim(user_agent=\"foursquare_agent\")\nlocation = geolocator.geocode(address)\nlatitude = location.latitude\nlongitude = location.longitude\nprint(latitude, longitude)"
        },
        {
            "cell_type": "code",
            "execution_count": 2,
            "metadata": {
                "scrolled": true
            },
            "outputs": [
                {
                    "name": "stdout",
                    "output_type": "stream",
                    "text": "Collecting folium\n\u001b[?25l  Downloading https://files.pythonhosted.org/packages/a4/f0/44e69d50519880287cc41e7c8a6acc58daa9a9acf5f6afc52bcc70f69a6d/folium-0.11.0-py2.py3-none-any.whl (93kB)\n\u001b[K     |\u2588\u2588\u2588\u2588\u2588\u2588\u2588\u2588\u2588\u2588\u2588\u2588\u2588\u2588\u2588\u2588\u2588\u2588\u2588\u2588\u2588\u2588\u2588\u2588\u2588\u2588\u2588\u2588\u2588\u2588\u2588\u2588| 102kB 6.8MB/s ta 0:00:011\n\u001b[?25hRequirement already satisfied: jinja2>=2.9 in /opt/conda/envs/Python36/lib/python3.6/site-packages (from folium) (2.10)\nCollecting branca>=0.3.0 (from folium)\n  Downloading https://files.pythonhosted.org/packages/13/fb/9eacc24ba3216510c6b59a4ea1cd53d87f25ba76237d7f4393abeaf4c94e/branca-0.4.1-py3-none-any.whl\nRequirement already satisfied: numpy in /opt/conda/envs/Python36/lib/python3.6/site-packages (from folium) (1.15.4)\nRequirement already satisfied: requests in /opt/conda/envs/Python36/lib/python3.6/site-packages (from folium) (2.21.0)\nRequirement already satisfied: MarkupSafe>=0.23 in /opt/conda/envs/Python36/lib/python3.6/site-packages (from jinja2>=2.9->folium) (1.1.0)\nRequirement already satisfied: urllib3<1.25,>=1.21.1 in /opt/conda/envs/Python36/lib/python3.6/site-packages (from requests->folium) (1.24.1)\nRequirement already satisfied: certifi>=2017.4.17 in /opt/conda/envs/Python36/lib/python3.6/site-packages (from requests->folium) (2020.6.20)\nRequirement already satisfied: idna<2.9,>=2.5 in /opt/conda/envs/Python36/lib/python3.6/site-packages (from requests->folium) (2.8)\nRequirement already satisfied: chardet<3.1.0,>=3.0.2 in /opt/conda/envs/Python36/lib/python3.6/site-packages (from requests->folium) (3.0.4)\nInstalling collected packages: branca, folium\nSuccessfully installed branca-0.4.1 folium-0.11.0\n"
                }
            ],
            "source": "! pip install folium"
        },
        {
            "cell_type": "markdown",
            "metadata": {},
            "source": "# Showing Map of Midrand and its latitude and Longitude values"
        },
        {
            "cell_type": "code",
            "execution_count": 28,
            "metadata": {
                "scrolled": true
            },
            "outputs": [
                {
                    "data": {
                        "text/html": "<div style=\"width:100%;\"><div style=\"position:relative;width:100%;height:0;padding-bottom:60%;\"><span style=\"color:#565656\">Make this Notebook Trusted to load map: File -> Trust Notebook</span><iframe src=\"about:blank\" style=\"position:absolute;width:100%;height:100%;left:0;top:0;border:none !important;\" data-html=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 onload=\"this.contentDocument.open();this.contentDocument.write(atob(this.getAttribute('data-html')));this.contentDocument.close();\" allowfullscreen webkitallowfullscreen mozallowfullscreen></iframe></div></div>",
                        "text/plain": "<folium.folium.Map at 0x7f935cf44d68>"
                    },
                    "execution_count": 28,
                    "metadata": {},
                    "output_type": "execute_result"
                }
            ],
            "source": "map_Midrand = folium.Map(location=[latitude, longitude], zoom_start=11)\nlabel = '{}, {}'.format('Johannesburg','Midrand')\nlabel = folium.Popup(label, parse_html=True)\nfolium.CircleMarker(\n    [-25.999262, 28.125912],\n    radius=5,\n    popup=label,\n    color='blue',\n    fill=True,\n    fill_color='#3186cc',\n    fill_opacity=0.7,\n    parse_html=False).add_to(map_Midrand)  \nmap_Midrand\n    "
        },
        {
            "cell_type": "markdown",
            "metadata": {},
            "source": "# Map of Midrand University"
        },
        {
            "cell_type": "code",
            "execution_count": 11,
            "metadata": {},
            "outputs": [
                {
                    "name": "stdout",
                    "output_type": "stream",
                    "text": "-26.019534999999998 28.1337591\n"
                }
            ],
            "source": "\naddress = 'Midrand University'\n\ngeolocator = Nominatim(user_agent=\"foursquare_agent\")\nlocation = geolocator.geocode(address)\nlatitude = location.latitude\nlongitude = location.longitude\nprint(latitude, longitude)\n"
        },
        {
            "cell_type": "code",
            "execution_count": 12,
            "metadata": {},
            "outputs": [],
            "source": "# create a new dataframe for Midrand University\nUniversity_data = df[df['Station'] =='Johannesburg']\n"
        },
        {
            "cell_type": "code",
            "execution_count": 29,
            "metadata": {
                "scrolled": true
            },
            "outputs": [
                {
                    "data": {
                        "text/html": "<div style=\"width:100%;\"><div style=\"position:relative;width:100%;height:0;padding-bottom:60%;\"><span style=\"color:#565656\">Make this Notebook Trusted to load map: File -> Trust Notebook</span><iframe src=\"about:blank\" style=\"position:absolute;width:100%;height:100%;left:0;top:0;border:none !important;\" data-html=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 onload=\"this.contentDocument.open();this.contentDocument.write(atob(this.getAttribute('data-html')));this.contentDocument.close();\" allowfullscreen webkitallowfullscreen mozallowfullscreen></iframe></div></div>",
                        "text/plain": "<folium.folium.Map at 0x7f935ce95f28>"
                    },
                    "execution_count": 29,
                    "metadata": {},
                    "output_type": "execute_result"
                }
            ],
            "source": "# create map of Midrand Univeristy  using latitude and longitude values\n\nmap_University = folium.Map(location=[latitude, longitude], zoom_start=11)\nlabel = '{}, {}'.format('Johannesburg','University')\nlabel = folium.Popup(label, parse_html=True)\nfolium.CircleMarker(\n    [-26.019534999999998, 28.1337591],\n    radius=5,\n    popup=label,\n    color='blue',\n    fill=True,\n    fill_color='#3186cc',\n    fill_opacity=0.7,\n    parse_html=False).add_to(map_University)  \nmap_University\n\nmap_University"
        },
        {
            "cell_type": "markdown",
            "metadata": {},
            "source": "# Explore Nearby Venues in Midrand"
        },
        {
            "cell_type": "code",
            "execution_count": 69,
            "metadata": {},
            "outputs": [],
            "source": "def getNearbyVenues(names, latitudes, longitudes, radius=500):\n    \n    venues_list=[]\n    for name, lat, lng in zip(names, latitudes, longitudes):\n        print(name)\n            \n        # create the API request URL\n        url = 'https://api.foursquare.com/v2/venues/explore?&client_id={}&client_secret={}&v={}&ll={},{}&radius={}&limit={}'.format(\n            CLIENT_ID,\n            CLIENT_SECRET,\n            VERSION,\n            lat, \n            lng, \n            radius, \n            LIMIT)\n            \n        # make the GET request\n        results = requests.get(url).json()[\"response\"]['groups'][0]['items']\n        \n        # return only relevant information for each nearby venue\n        venues_list.append([(\n            name, \n            lat, \n            lng, \n            v['venue']['name'], \n            v['venue']['location']['lat'], \n            v['venue']['location']['lng'],  \n            v['venue']['categories'][0]['name']) for v in results])\n\n    nearby_venues = pd.DataFrame([item for venue_list in venues_list for item in venue_list])\n    nearby_venues.columns = ['suburb', \n                   'Latitude', \n                   'Longitude', \n                  'Venue', \n                  'Venue Latitude', \n                  'Venue Longitude', \n                  'Venue Category']\n    \n    return(nearby_venues)"
        },
        {
            "cell_type": "code",
            "execution_count": 70,
            "metadata": {},
            "outputs": [
                {
                    "data": {
                        "text/plain": "'https://api.foursquare.com/v2/venues/explore?&client_id={}&client_secret={}&v={}&ll={},{}&radius={}&limit={}'"
                    },
                    "execution_count": 70,
                    "metadata": {},
                    "output_type": "execute_result"
                }
            ],
            "source": "url = 'https://api.foursquare.com/v2/venues/explore?&client_id={}&client_secret={}&v={}&ll={},{}&radius={}&limit={}'\nurl"
        },
        {
            "cell_type": "code",
            "execution_count": 71,
            "metadata": {},
            "outputs": [
                {
                    "data": {
                        "text/plain": "{'meta': {'code': 400,\n  'errorType': 'invalid_auth',\n  'errorDetail': 'Missing access credentials. See https://developer.foursquare.com/docs/api/configuration/authentication for details.',\n  'requestId': '5f554f24539a1348c5f15435'},\n 'response': {}}"
                    },
                    "execution_count": 71,
                    "metadata": {},
                    "output_type": "execute_result"
                }
            ],
            "source": "results = requests.get(url).json()\nresults"
        }
    ],
    "metadata": {
        "kernelspec": {
            "display_name": "Python 3.6",
            "language": "python",
            "name": "python3"
        },
        "language_info": {
            "codemirror_mode": {
                "name": "ipython",
                "version": 3
            },
            "file_extension": ".py",
            "mimetype": "text/x-python",
            "name": "python",
            "nbconvert_exporter": "python",
            "pygments_lexer": "ipython3",
            "version": "3.6.9"
        }
    },
    "nbformat": 4,
    "nbformat_minor": 1
}